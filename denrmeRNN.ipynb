{
  "nbformat": 4,
  "nbformat_minor": 0,
  "metadata": {
    "colab": {
      "provenance": [],
      "authorship_tag": "ABX9TyPdGnOwb1hHLXGJ87Xfxtaq",
      "include_colab_link": true
    },
    "kernelspec": {
      "name": "python3",
      "display_name": "Python 3"
    },
    "language_info": {
      "name": "python"
    }
  },
  "cells": [
    {
      "cell_type": "markdown",
      "metadata": {
        "id": "view-in-github",
        "colab_type": "text"
      },
      "source": [
        "<a href=\"https://colab.research.google.com/github/ErkinArikan/BMI_Measurement/blob/main/denrmeRNN.ipynb\" target=\"_parent\"><img src=\"https://colab.research.google.com/assets/colab-badge.svg\" alt=\"Open In Colab\"/></a>"
      ]
    },
    {
      "cell_type": "code",
      "execution_count": 1,
      "metadata": {
        "id": "OA2XvoOQgzDf"
      },
      "outputs": [],
      "source": [
        "import pandas as pd\n",
        "import numpy as np\n",
        "from sklearn.preprocessing import MinMaxScaler\n",
        "import tensorflow as tf\n",
        "from tensorflow.keras.models import Sequential\n",
        "from tensorflow.keras.layers import Dense, SimpleRNN"
      ]
    },
    {
      "cell_type": "code",
      "source": [
        "data = pd.read_csv(\"/content/sample_data/ISU Enrollment (1).csv\")"
      ],
      "metadata": {
        "id": "q4bmWOBNg-_K"
      },
      "execution_count": 2,
      "outputs": []
    },
    {
      "cell_type": "code",
      "source": [
        "# Extract the total enrollment data and normalize it\n",
        "total_enrollment = data[\"Total\"].values.reshape(-1, 1)\n",
        "scaler = MinMaxScaler()\n",
        "total_enrollment_scaled = scaler.fit_transform(total_enrollment)"
      ],
      "metadata": {
        "id": "8P3POrXehC0r"
      },
      "execution_count": 3,
      "outputs": []
    },
    {
      "cell_type": "code",
      "source": [
        "# Create a time series dataset with 12 months of lag\n",
        "n_steps = 12\n",
        "X = []\n",
        "y = []\n",
        "for i in range(n_steps, len(total_enrollment_scaled)):\n",
        "    X.append(total_enrollment_scaled[i-n_steps:i, 0])\n",
        "    y.append(total_enrollment_scaled[i, 0])\n",
        "X, y = np.array(X), np.array(y)\n"
      ],
      "metadata": {
        "id": "QF1IpOaxhEjB"
      },
      "execution_count": 4,
      "outputs": []
    },
    {
      "cell_type": "code",
      "source": [
        "# Split the data into training and testing sets\n",
        "split = int(0.8 * len(X))\n",
        "X_train, y_train = X[:split], y[:split]\n",
        "X_test, y_test = X[split:], y[split:]"
      ],
      "metadata": {
        "id": "Fx5Tmr2bhGOQ"
      },
      "execution_count": 5,
      "outputs": []
    },
    {
      "cell_type": "code",
      "source": [
        "# Reshape the data for the RNN model\n",
        "X_train = X_train.reshape((X_train.shape[0], X_train.shape[1], 1))\n",
        "X_test = X_test.reshape((X_test.shape[0], X_test.shape[1], 1))\n"
      ],
      "metadata": {
        "id": "9uFqIluUhHn-"
      },
      "execution_count": 6,
      "outputs": []
    },
    {
      "cell_type": "code",
      "source": [
        "# Define the RNN model architecture\n",
        "model = Sequential()\n",
        "model.add(SimpleRNN(64, input_shape=(n_steps, 1), activation=\"relu\"))\n",
        "model.add(Dense(1))"
      ],
      "metadata": {
        "id": "239Z96o_hJ8_"
      },
      "execution_count": 7,
      "outputs": []
    },
    {
      "cell_type": "code",
      "source": [
        "# Compile the model and specify the loss function and optimizer\n",
        "model.compile(loss=\"mse\", optimizer=\"adam\")\n"
      ],
      "metadata": {
        "id": "6nAd0dm7hMKx"
      },
      "execution_count": 8,
      "outputs": []
    },
    {
      "cell_type": "code",
      "source": [
        "# Train the model\n",
        "model.fit(X_train, y_train, epochs=100, batch_size=32, verbose=2)\n"
      ],
      "metadata": {
        "colab": {
          "base_uri": "https://localhost:8080/"
        },
        "id": "oP7ri7V6hOCX",
        "outputId": "03bd48c5-f5d5-4136-d020-b5e0a747f8da"
      },
      "execution_count": 9,
      "outputs": [
        {
          "output_type": "stream",
          "name": "stdout",
          "text": [
            "Epoch 1/100\n",
            "2/2 - 2s - loss: 0.3310 - 2s/epoch - 811ms/step\n",
            "Epoch 2/100\n",
            "2/2 - 0s - loss: 0.1769 - 19ms/epoch - 10ms/step\n",
            "Epoch 3/100\n",
            "2/2 - 0s - loss: 0.0756 - 19ms/epoch - 10ms/step\n",
            "Epoch 4/100\n",
            "2/2 - 0s - loss: 0.0502 - 18ms/epoch - 9ms/step\n",
            "Epoch 5/100\n",
            "2/2 - 0s - loss: 0.0665 - 23ms/epoch - 12ms/step\n",
            "Epoch 6/100\n",
            "2/2 - 0s - loss: 0.0536 - 16ms/epoch - 8ms/step\n",
            "Epoch 7/100\n",
            "2/2 - 0s - loss: 0.0288 - 22ms/epoch - 11ms/step\n",
            "Epoch 8/100\n",
            "2/2 - 0s - loss: 0.0163 - 19ms/epoch - 9ms/step\n",
            "Epoch 9/100\n",
            "2/2 - 0s - loss: 0.0154 - 22ms/epoch - 11ms/step\n",
            "Epoch 10/100\n",
            "2/2 - 0s - loss: 0.0157 - 17ms/epoch - 8ms/step\n",
            "Epoch 11/100\n",
            "2/2 - 0s - loss: 0.0141 - 18ms/epoch - 9ms/step\n",
            "Epoch 12/100\n",
            "2/2 - 0s - loss: 0.0103 - 19ms/epoch - 9ms/step\n",
            "Epoch 13/100\n",
            "2/2 - 0s - loss: 0.0061 - 18ms/epoch - 9ms/step\n",
            "Epoch 14/100\n",
            "2/2 - 0s - loss: 0.0028 - 19ms/epoch - 9ms/step\n",
            "Epoch 15/100\n",
            "2/2 - 0s - loss: 0.0028 - 18ms/epoch - 9ms/step\n",
            "Epoch 16/100\n",
            "2/2 - 0s - loss: 0.0048 - 17ms/epoch - 9ms/step\n",
            "Epoch 17/100\n",
            "2/2 - 0s - loss: 0.0057 - 18ms/epoch - 9ms/step\n",
            "Epoch 18/100\n",
            "2/2 - 0s - loss: 0.0047 - 18ms/epoch - 9ms/step\n",
            "Epoch 19/100\n",
            "2/2 - 0s - loss: 0.0037 - 19ms/epoch - 9ms/step\n",
            "Epoch 20/100\n",
            "2/2 - 0s - loss: 0.0031 - 27ms/epoch - 14ms/step\n",
            "Epoch 21/100\n",
            "2/2 - 0s - loss: 0.0030 - 25ms/epoch - 12ms/step\n",
            "Epoch 22/100\n",
            "2/2 - 0s - loss: 0.0032 - 25ms/epoch - 12ms/step\n",
            "Epoch 23/100\n",
            "2/2 - 0s - loss: 0.0030 - 23ms/epoch - 12ms/step\n",
            "Epoch 24/100\n",
            "2/2 - 0s - loss: 0.0027 - 19ms/epoch - 9ms/step\n",
            "Epoch 25/100\n",
            "2/2 - 0s - loss: 0.0023 - 23ms/epoch - 11ms/step\n",
            "Epoch 26/100\n",
            "2/2 - 0s - loss: 0.0022 - 18ms/epoch - 9ms/step\n",
            "Epoch 27/100\n",
            "2/2 - 0s - loss: 0.0023 - 19ms/epoch - 9ms/step\n",
            "Epoch 28/100\n",
            "2/2 - 0s - loss: 0.0026 - 21ms/epoch - 11ms/step\n",
            "Epoch 29/100\n",
            "2/2 - 0s - loss: 0.0026 - 18ms/epoch - 9ms/step\n",
            "Epoch 30/100\n",
            "2/2 - 0s - loss: 0.0023 - 19ms/epoch - 9ms/step\n",
            "Epoch 31/100\n",
            "2/2 - 0s - loss: 0.0021 - 19ms/epoch - 10ms/step\n",
            "Epoch 32/100\n",
            "2/2 - 0s - loss: 0.0021 - 23ms/epoch - 11ms/step\n",
            "Epoch 33/100\n",
            "2/2 - 0s - loss: 0.0021 - 22ms/epoch - 11ms/step\n",
            "Epoch 34/100\n",
            "2/2 - 0s - loss: 0.0021 - 16ms/epoch - 8ms/step\n",
            "Epoch 35/100\n",
            "2/2 - 0s - loss: 0.0021 - 21ms/epoch - 11ms/step\n",
            "Epoch 36/100\n",
            "2/2 - 0s - loss: 0.0020 - 21ms/epoch - 11ms/step\n",
            "Epoch 37/100\n",
            "2/2 - 0s - loss: 0.0020 - 20ms/epoch - 10ms/step\n",
            "Epoch 38/100\n",
            "2/2 - 0s - loss: 0.0020 - 20ms/epoch - 10ms/step\n",
            "Epoch 39/100\n",
            "2/2 - 0s - loss: 0.0020 - 20ms/epoch - 10ms/step\n",
            "Epoch 40/100\n",
            "2/2 - 0s - loss: 0.0020 - 19ms/epoch - 9ms/step\n",
            "Epoch 41/100\n",
            "2/2 - 0s - loss: 0.0020 - 19ms/epoch - 9ms/step\n",
            "Epoch 42/100\n",
            "2/2 - 0s - loss: 0.0019 - 19ms/epoch - 9ms/step\n",
            "Epoch 43/100\n",
            "2/2 - 0s - loss: 0.0019 - 18ms/epoch - 9ms/step\n",
            "Epoch 44/100\n",
            "2/2 - 0s - loss: 0.0019 - 18ms/epoch - 9ms/step\n",
            "Epoch 45/100\n",
            "2/2 - 0s - loss: 0.0019 - 18ms/epoch - 9ms/step\n",
            "Epoch 46/100\n",
            "2/2 - 0s - loss: 0.0019 - 18ms/epoch - 9ms/step\n",
            "Epoch 47/100\n",
            "2/2 - 0s - loss: 0.0019 - 18ms/epoch - 9ms/step\n",
            "Epoch 48/100\n",
            "2/2 - 0s - loss: 0.0018 - 18ms/epoch - 9ms/step\n",
            "Epoch 49/100\n",
            "2/2 - 0s - loss: 0.0018 - 20ms/epoch - 10ms/step\n",
            "Epoch 50/100\n",
            "2/2 - 0s - loss: 0.0018 - 18ms/epoch - 9ms/step\n",
            "Epoch 51/100\n",
            "2/2 - 0s - loss: 0.0018 - 16ms/epoch - 8ms/step\n",
            "Epoch 52/100\n",
            "2/2 - 0s - loss: 0.0018 - 15ms/epoch - 8ms/step\n",
            "Epoch 53/100\n",
            "2/2 - 0s - loss: 0.0018 - 16ms/epoch - 8ms/step\n",
            "Epoch 54/100\n",
            "2/2 - 0s - loss: 0.0018 - 15ms/epoch - 8ms/step\n",
            "Epoch 55/100\n",
            "2/2 - 0s - loss: 0.0018 - 16ms/epoch - 8ms/step\n",
            "Epoch 56/100\n",
            "2/2 - 0s - loss: 0.0018 - 16ms/epoch - 8ms/step\n",
            "Epoch 57/100\n",
            "2/2 - 0s - loss: 0.0018 - 16ms/epoch - 8ms/step\n",
            "Epoch 58/100\n",
            "2/2 - 0s - loss: 0.0018 - 19ms/epoch - 9ms/step\n",
            "Epoch 59/100\n",
            "2/2 - 0s - loss: 0.0017 - 20ms/epoch - 10ms/step\n",
            "Epoch 60/100\n",
            "2/2 - 0s - loss: 0.0017 - 16ms/epoch - 8ms/step\n",
            "Epoch 61/100\n",
            "2/2 - 0s - loss: 0.0017 - 21ms/epoch - 11ms/step\n",
            "Epoch 62/100\n",
            "2/2 - 0s - loss: 0.0017 - 19ms/epoch - 9ms/step\n",
            "Epoch 63/100\n",
            "2/2 - 0s - loss: 0.0017 - 17ms/epoch - 8ms/step\n",
            "Epoch 64/100\n",
            "2/2 - 0s - loss: 0.0017 - 16ms/epoch - 8ms/step\n",
            "Epoch 65/100\n",
            "2/2 - 0s - loss: 0.0017 - 17ms/epoch - 9ms/step\n",
            "Epoch 66/100\n",
            "2/2 - 0s - loss: 0.0017 - 16ms/epoch - 8ms/step\n",
            "Epoch 67/100\n",
            "2/2 - 0s - loss: 0.0017 - 23ms/epoch - 12ms/step\n",
            "Epoch 68/100\n",
            "2/2 - 0s - loss: 0.0016 - 26ms/epoch - 13ms/step\n",
            "Epoch 69/100\n",
            "2/2 - 0s - loss: 0.0016 - 21ms/epoch - 10ms/step\n",
            "Epoch 70/100\n",
            "2/2 - 0s - loss: 0.0016 - 19ms/epoch - 10ms/step\n",
            "Epoch 71/100\n",
            "2/2 - 0s - loss: 0.0016 - 22ms/epoch - 11ms/step\n",
            "Epoch 72/100\n",
            "2/2 - 0s - loss: 0.0016 - 16ms/epoch - 8ms/step\n",
            "Epoch 73/100\n",
            "2/2 - 0s - loss: 0.0016 - 16ms/epoch - 8ms/step\n",
            "Epoch 74/100\n",
            "2/2 - 0s - loss: 0.0016 - 18ms/epoch - 9ms/step\n",
            "Epoch 75/100\n",
            "2/2 - 0s - loss: 0.0016 - 24ms/epoch - 12ms/step\n",
            "Epoch 76/100\n",
            "2/2 - 0s - loss: 0.0016 - 17ms/epoch - 8ms/step\n",
            "Epoch 77/100\n",
            "2/2 - 0s - loss: 0.0016 - 16ms/epoch - 8ms/step\n",
            "Epoch 78/100\n",
            "2/2 - 0s - loss: 0.0015 - 15ms/epoch - 7ms/step\n",
            "Epoch 79/100\n",
            "2/2 - 0s - loss: 0.0015 - 15ms/epoch - 8ms/step\n",
            "Epoch 80/100\n",
            "2/2 - 0s - loss: 0.0015 - 16ms/epoch - 8ms/step\n",
            "Epoch 81/100\n",
            "2/2 - 0s - loss: 0.0015 - 18ms/epoch - 9ms/step\n",
            "Epoch 82/100\n",
            "2/2 - 0s - loss: 0.0015 - 15ms/epoch - 8ms/step\n",
            "Epoch 83/100\n",
            "2/2 - 0s - loss: 0.0015 - 21ms/epoch - 11ms/step\n",
            "Epoch 84/100\n",
            "2/2 - 0s - loss: 0.0015 - 19ms/epoch - 10ms/step\n",
            "Epoch 85/100\n",
            "2/2 - 0s - loss: 0.0014 - 25ms/epoch - 13ms/step\n",
            "Epoch 86/100\n",
            "2/2 - 0s - loss: 0.0014 - 19ms/epoch - 9ms/step\n",
            "Epoch 87/100\n",
            "2/2 - 0s - loss: 0.0014 - 19ms/epoch - 10ms/step\n",
            "Epoch 88/100\n",
            "2/2 - 0s - loss: 0.0014 - 18ms/epoch - 9ms/step\n",
            "Epoch 89/100\n",
            "2/2 - 0s - loss: 0.0014 - 19ms/epoch - 10ms/step\n",
            "Epoch 90/100\n",
            "2/2 - 0s - loss: 0.0014 - 17ms/epoch - 8ms/step\n",
            "Epoch 91/100\n",
            "2/2 - 0s - loss: 0.0013 - 17ms/epoch - 9ms/step\n",
            "Epoch 92/100\n",
            "2/2 - 0s - loss: 0.0013 - 21ms/epoch - 11ms/step\n",
            "Epoch 93/100\n",
            "2/2 - 0s - loss: 0.0013 - 22ms/epoch - 11ms/step\n",
            "Epoch 94/100\n",
            "2/2 - 0s - loss: 0.0013 - 20ms/epoch - 10ms/step\n",
            "Epoch 95/100\n",
            "2/2 - 0s - loss: 0.0013 - 18ms/epoch - 9ms/step\n",
            "Epoch 96/100\n",
            "2/2 - 0s - loss: 0.0013 - 18ms/epoch - 9ms/step\n",
            "Epoch 97/100\n",
            "2/2 - 0s - loss: 0.0013 - 17ms/epoch - 8ms/step\n",
            "Epoch 98/100\n",
            "2/2 - 0s - loss: 0.0013 - 20ms/epoch - 10ms/step\n",
            "Epoch 99/100\n",
            "2/2 - 0s - loss: 0.0013 - 19ms/epoch - 9ms/step\n",
            "Epoch 100/100\n",
            "2/2 - 0s - loss: 0.0013 - 17ms/epoch - 8ms/step\n"
          ]
        },
        {
          "output_type": "execute_result",
          "data": {
            "text/plain": [
              "<keras.callbacks.History at 0x7fbaf1b92d70>"
            ]
          },
          "metadata": {},
          "execution_count": 9
        }
      ]
    },
    {
      "cell_type": "code",
      "source": [
        "# Evaluate the model on the test set\n",
        "mse = model.evaluate(X_test, y_test, verbose=0)\n",
        "print(\"MSE:\", mse)"
      ],
      "metadata": {
        "colab": {
          "base_uri": "https://localhost:8080/"
        },
        "id": "fE8W3K9ghQO5",
        "outputId": "ac95ff59-8f05-4b98-e6ae-afceb3134c19"
      },
      "execution_count": 10,
      "outputs": [
        {
          "output_type": "stream",
          "name": "stdout",
          "text": [
            "MSE: 0.0003467951901257038\n"
          ]
        }
      ]
    }
  ]
}